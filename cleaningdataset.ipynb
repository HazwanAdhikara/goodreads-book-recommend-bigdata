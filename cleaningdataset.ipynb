{
 "cells": [
  {
   "cell_type": "code",
   "execution_count": 1,
   "id": "cdf9eba6",
   "metadata": {},
   "outputs": [
    {
     "name": "stderr",
     "output_type": "stream",
     "text": [
      "25/06/19 23:32:43 WARN Utils: Your hostname, Zwanes-MacBook.local resolves to a loopback address: 127.0.0.1; using 192.168.110.72 instead (on interface en0)\n",
      "25/06/19 23:32:43 WARN Utils: Set SPARK_LOCAL_IP if you need to bind to another address\n",
      "Setting default log level to \"WARN\".\n",
      "To adjust logging level use sc.setLogLevel(newLevel). For SparkR, use setLogLevel(newLevel).\n",
      "25/06/19 23:32:45 WARN NativeCodeLoader: Unable to load native-hadoop library for your platform... using builtin-java classes where applicable\n"
     ]
    }
   ],
   "source": [
    "from pyspark.sql import SparkSession\n",
    "\n",
    "spark = SparkSession.builder.appName(\"Goodreads Book Recommendation\").getOrCreate()"
   ]
  },
  {
   "cell_type": "code",
   "execution_count": 2,
   "id": "ceddd3ed",
   "metadata": {},
   "outputs": [
    {
     "name": "stderr",
     "output_type": "stream",
     "text": [
      "                                                                                \r"
     ]
    }
   ],
   "source": [
    "df = spark.read.csv(\"data/raw.csv\", header=True, inferSchema=True)"
   ]
  },
  {
   "cell_type": "code",
   "execution_count": 3,
   "id": "67cd9481",
   "metadata": {},
   "outputs": [],
   "source": [
    "from pyspark.sql import functions as F\n",
    "\n",
    "import matplotlib.pyplot as plt\n",
    "import seaborn as sns\n",
    "import pandas as pd"
   ]
  },
  {
   "cell_type": "code",
   "execution_count": 4,
   "id": "9494c809",
   "metadata": {},
   "outputs": [
    {
     "name": "stdout",
     "output_type": "stream",
     "text": [
      "root\n",
      " |-- Id: string (nullable = true)\n",
      " |-- Name: string (nullable = true)\n",
      " |-- Authors: string (nullable = true)\n",
      " |-- ISBN: string (nullable = true)\n",
      " |-- Rating: string (nullable = true)\n",
      " |-- PublishYear: string (nullable = true)\n",
      " |-- PublishMonth: string (nullable = true)\n",
      " |-- PublishDay: string (nullable = true)\n",
      " |-- Publisher: string (nullable = true)\n",
      " |-- RatingDist5: string (nullable = true)\n",
      " |-- RatingDist4: string (nullable = true)\n",
      " |-- RatingDist3: string (nullable = true)\n",
      " |-- RatingDist2: string (nullable = true)\n",
      " |-- RatingDist1: string (nullable = true)\n",
      " |-- RatingDistTotal: string (nullable = true)\n",
      " |-- CountsOfReview: string (nullable = true)\n",
      " |-- Language: string (nullable = true)\n",
      " |-- PagesNumber: string (nullable = true)\n",
      " |-- Description: string (nullable = true)\n",
      "\n"
     ]
    }
   ],
   "source": [
    "df.printSchema()"
   ]
  },
  {
   "cell_type": "markdown",
   "id": "93354cfb",
   "metadata": {},
   "source": [
    "### Missing Values"
   ]
  },
  {
   "cell_type": "code",
   "execution_count": 5,
   "id": "f2b0338c",
   "metadata": {},
   "outputs": [
    {
     "name": "stderr",
     "output_type": "stream",
     "text": [
      "                                                                                \r"
     ]
    },
    {
     "name": "stdout",
     "output_type": "stream",
     "text": [
      "Missing Values Summary:\n"
     ]
    },
    {
     "name": "stderr",
     "output_type": "stream",
     "text": [
      "/Library/Frameworks/Python.framework/Versions/3.12/lib/python3.12/site-packages/pyspark/python/lib/pyspark.zip/pyspark/daemon.py:154: DeprecationWarning: This process (pid=4895) is multi-threaded, use of fork() may lead to deadlocks in the child.\n"
     ]
    },
    {
     "name": "stdout",
     "output_type": "stream",
     "text": [
      "+---------------+--------------+------------------+\n",
      "|Column         |Missing Values|Percentage        |\n",
      "+---------------+--------------+------------------+\n",
      "|Language       |268678        |94.47319934176289 |\n",
      "|Description    |99710         |35.060268076906844|\n",
      "|Publisher      |5219          |1.835117230903388 |\n",
      "|PagesNumber    |4150          |1.459232900603384 |\n",
      "|CountsOfReview |4020          |1.413521990464001 |\n",
      "|RatingDistTotal|3997          |1.405434675593187 |\n",
      "|RatingDist1    |3973          |1.3969957383366856|\n",
      "|RatingDist2    |3945          |1.3871503115374337|\n",
      "|RatingDist3    |3918          |1.3776565071238696|\n",
      "|ISBN           |3914          |1.3762500175811192|\n",
      "|RatingDist4    |3865          |1.3590205206824288|\n",
      "|RatingDist5    |3815          |1.3414394013980506|\n",
      "|PublishDay     |3677          |1.292915512173167 |\n",
      "|PublishMonth   |3583          |1.259863007918536 |\n",
      "|PublishYear    |3485          |1.225404014121155 |\n",
      "|Rating         |3339          |1.174067145810771 |\n",
      "|Authors        |2898          |1.0190016737225558|\n",
      "|Name           |2498          |0.8783527194475308|\n",
      "+---------------+--------------+------------------+\n",
      "\n"
     ]
    },
    {
     "name": "stderr",
     "output_type": "stream",
     "text": [
      "                                                                                \r"
     ]
    }
   ],
   "source": [
    "total_rows = df.count()\n",
    "\n",
    "missing_counts = df.select([\n",
    "    F.sum(F.when(F.col(c).isNull(), 1).otherwise(0)).alias(c)\n",
    "    for c in df.columns\n",
    "]).collect()[0].asDict()\n",
    "\n",
    "summary_rows = [\n",
    "    (col, cnt, cnt / total_rows * 100)\n",
    "    for col, cnt in missing_counts.items()\n",
    "    if cnt > 0\n",
    "]\n",
    "missing_summary_df = spark.createDataFrame(\n",
    "    summary_rows,\n",
    "    schema=[\"Column\", \"Missing Values\", \"Percentage\"]\n",
    ").orderBy(F.desc(\"Missing Values\"))\n",
    "\n",
    "print(\"Missing Values Summary:\")\n",
    "missing_summary_df.show(truncate=False)"
   ]
  },
  {
   "cell_type": "markdown",
   "id": "48c0ea96",
   "metadata": {},
   "source": [
    "### Dropping unrelevant columns"
   ]
  },
  {
   "cell_type": "code",
   "execution_count": 6,
   "id": "3cdad613",
   "metadata": {},
   "outputs": [
    {
     "name": "stdout",
     "output_type": "stream",
     "text": [
      "root\n",
      " |-- Id: string (nullable = true)\n",
      " |-- Name: string (nullable = true)\n",
      " |-- Authors: string (nullable = true)\n",
      " |-- Rating: string (nullable = true)\n",
      " |-- PublishYear: string (nullable = true)\n",
      " |-- Publisher: string (nullable = true)\n",
      " |-- RatingDistTotal: integer (nullable = true)\n",
      " |-- PagesNumber: string (nullable = true)\n",
      " |-- Description: string (nullable = true)\n",
      "\n",
      "+-------+---------------------------------------------------------------------------------------------------------------------------------------------------------------------------+-------------------------+------+-----------+----------------------------------------------------------+---------------+-----------+--------------------------------------------------------------------------------------------------------------------------------------------------------------------------------------------------------------------------------------------------------------------------------------------------------------------------------------------------------------------------------------------------------------------------------------------------------------------------------------------------------------------------------------------------------------------------------------------------------------------------------------+\n",
      "|Id     |Name                                                                                                                                                                       |Authors                  |Rating|PublishYear|Publisher                                                 |RatingDistTotal|PagesNumber|Description                                                                                                                                                                                                                                                                                                                                                                                                                                                                                                                                                                                                                           |\n",
      "+-------+---------------------------------------------------------------------------------------------------------------------------------------------------------------------------+-------------------------+------+-----------+----------------------------------------------------------+---------------+-----------+--------------------------------------------------------------------------------------------------------------------------------------------------------------------------------------------------------------------------------------------------------------------------------------------------------------------------------------------------------------------------------------------------------------------------------------------------------------------------------------------------------------------------------------------------------------------------------------------------------------------------------------+\n",
      "|4000002|Playwright Power                                                                                                                                                           |Robert Friedman          |0.0   |1996       |University Press of America                               |0              |164        |Playwright Power is a concise handbook on how to write a play. Written by an award-winning playwright, this book is built on proven basics. It provides important information for the beginning playwright as well as solid reinforcement for those already established. Beginning with the definition of a play, this book goes on to explain the components of the script, the playwright's best environment and some questions the new playwright should think about before beginning. This book guides the playwright through the plot, building characters, the dialogue, and how to get the play produced.                      |\n",
      "|4000009|Selected Topics In Harmonic Maps                                                                                                                                           |James Eells              |0.0   |1983       |American Mathematical Society(RI)                         |0              |85         |Gives an account of the various aspects of the theory of harmonic maps between Riemannian manifolds. This book presents an exposition of the qualitative aspects of harmonic maps. It also proposes certain unsolved problems, together with comments and references, which are of widely varying difficulty.                                                                                                                                                                                                                                                                                                                         |\n",
      "|4000010|Foreign Exchange Intervention: Objectives And Effectiveness                                                                                                                |Sylvester C.W. Eijffinger|0.0   |1999       |Edward Elgar Publishing                                   |0              |608        |This collection of previously published articles and papers, together with an introduction by the editor, provides an overview of foreign exchange intervention and an examination of the issues involved.                                                                                                                                                                                                                                                                                                                                                                                                                            |\n",
      "|4000015|Ludwig Tieck - Studien Zur Geselligkeitsproblematik: Die Soziologisch-Paedagogische Kategorie Der Geselligkeit ALS Einheitsstiftender Faktor in Werk Und Leben Des Dichters|Thomas Gunther Ziegner   |0.0   |1987       |Peter Lang Gmbh, Internationaler Verlag Der Wissenschaften|0              |377        |Fur das Werk Ludwig Tiecks stellt sich die Frage nach der Kontinuitat. Zerfallt das Werk, wie es in der Tieck-Forschung wiederholt konstatiert wurde, in zwei unzusammenhangende Blocke, das romantische Fruhwerk und das realistische Spatwerk, oder lasst sich nicht zwischen beiden Schaffensperioden ein spezifischer Konnex im Hinblick auf die kontinuierliche Entwicklung einer zentralen Thematik erkennen? In diesem Sinne zeigt die Arbeit unter der Perspektive der soziologischen Kategorie der Geselligkeit eine durchgangige Entwicklungslinie vom Fruhwerk bis zum Spatwerk auf, die einer Bruchtheorie widerspricht.\"\"|\n",
      "|4000023|Luis Palau                                                                                                                                                                 |W. Terry Whalin          |4.33  |1996       |Bethany House Publishers                                  |6              |160        |Discover the story of how Dr. Luis Palau's worldwide ministry has brought the Gospel to more than 11 million people in 63 nations through crusades, rallies, and daily radio programs. Men of Faith.                                                                                                                                                                                                                                                                                                                                                                                                                                  |\n",
      "+-------+---------------------------------------------------------------------------------------------------------------------------------------------------------------------------+-------------------------+------+-----------+----------------------------------------------------------+---------------+-----------+--------------------------------------------------------------------------------------------------------------------------------------------------------------------------------------------------------------------------------------------------------------------------------------------------------------------------------------------------------------------------------------------------------------------------------------------------------------------------------------------------------------------------------------------------------------------------------------------------------------------------------------+\n",
      "only showing top 5 rows\n",
      "\n"
     ]
    }
   ],
   "source": [
    "cols_to_drop = [\n",
    "    \"ISBN\", \"PublishMonth\", \"PublishDay\",\n",
    "    \"RatingDist5\", \"RatingDist4\", \"RatingDist3\",\n",
    "    \"RatingDist2\", \"RatingDist1\",\n",
    "    \"CountsOfReview\", \"language\"\n",
    "]\n",
    "df_clean = df.drop(*cols_to_drop)\n",
    "\n",
    "df_clean = df_clean.withColumn(\n",
    "    \"RatingDistTotal\",\n",
    "    F.regexp_replace(F.col(\"RatingDistTotal\"), \"^total:\", \"\").cast(\"int\")\n",
    ")\n",
    "\n",
    "df_clean = df_clean.dropna(\n",
    "    how=\"any\",\n",
    "    subset=[\"Description\", \"PagesNumber\", \"Publisher\", \"Rating\", \"RatingDistTotal\"]\n",
    ")\n",
    "\n",
    "df_clean.printSchema()\n",
    "df_clean.show(5, truncate=False)"
   ]
  },
  {
   "cell_type": "code",
   "execution_count": 7,
   "id": "c0ba00f9",
   "metadata": {},
   "outputs": [
    {
     "name": "stderr",
     "output_type": "stream",
     "text": [
      "                                                                                \r"
     ]
    },
    {
     "name": "stdout",
     "output_type": "stream",
     "text": [
      "✅ No more missing values in any column.\n"
     ]
    },
    {
     "name": "stderr",
     "output_type": "stream",
     "text": [
      "[Stage 13:>                                                         (0 + 8) / 8]\r"
     ]
    },
    {
     "name": "stdout",
     "output_type": "stream",
     "text": [
      "+---+----+-------+------+-----------+---------+---------------+-----------+-----------+\n",
      "|Id |Name|Authors|Rating|PublishYear|Publisher|RatingDistTotal|PagesNumber|Description|\n",
      "+---+----+-------+------+-----------+---------+---------------+-----------+-----------+\n",
      "|0  |0   |0      |0     |0          |0        |0              |0          |0          |\n",
      "+---+----+-------+------+-----------+---------+---------------+-----------+-----------+\n",
      "\n"
     ]
    },
    {
     "name": "stderr",
     "output_type": "stream",
     "text": [
      "                                                                                \r"
     ]
    }
   ],
   "source": [
    "null_counts = df_clean.select([\n",
    "    F.sum(\n",
    "        F.when(F.col(c).isNull() | F.isnan(c), 1).otherwise(0)\n",
    "    ).alias(c)\n",
    "    for c in df_clean.columns\n",
    "])\n",
    "\n",
    "null_counts_row = null_counts.collect()[0].asDict()\n",
    "remaining_nulls = {col: cnt for col, cnt in null_counts_row.items() if cnt > 0}\n",
    "\n",
    "if remaining_nulls:\n",
    "    print(\"Still missing values in:\")\n",
    "    for col, cnt in remaining_nulls.items():\n",
    "        print(f\"  • {col}: {cnt} null(s)\")\n",
    "else:\n",
    "    print(\"✅ No more missing values in any column.\")\n",
    "\n",
    "null_counts.show(truncate=False)\n"
   ]
  },
  {
   "cell_type": "markdown",
   "id": "c674c2b4",
   "metadata": {},
   "source": [
    "### Creating a new CSV for the cleaned data"
   ]
  },
  {
   "cell_type": "code",
   "execution_count": 8,
   "id": "5623d371",
   "metadata": {},
   "outputs": [
    {
     "name": "stderr",
     "output_type": "stream",
     "text": [
      "                                                                                \r"
     ]
    }
   ],
   "source": [
    "pandas_df = df_clean.toPandas()\n",
    "pandas_df.to_csv(\"data/goodreads.csv\", index=False)"
   ]
  }
 ],
 "metadata": {
  "kernelspec": {
   "display_name": "Python 3",
   "language": "python",
   "name": "python3"
  },
  "language_info": {
   "codemirror_mode": {
    "name": "ipython",
    "version": 3
   },
   "file_extension": ".py",
   "mimetype": "text/x-python",
   "name": "python",
   "nbconvert_exporter": "python",
   "pygments_lexer": "ipython3",
   "version": "3.12.0"
  }
 },
 "nbformat": 4,
 "nbformat_minor": 5
}
